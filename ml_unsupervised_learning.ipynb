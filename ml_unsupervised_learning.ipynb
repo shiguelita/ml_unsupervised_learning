{
 "cells": [
  {
   "cell_type": "markdown",
   "metadata": {},
   "source": [
    "## Um resumo sobre Modelos de Aprendizagem Não Supervisionada"
   ]
  },
  {
   "cell_type": "markdown",
   "metadata": {},
   "source": [
    "Aprendizagem Não Supervisionadas são modelos de Machine Learninig que possuem poucos ou nenhum dado histórico para se basear e conseguir prever os resultados, eles não necessitam de um conjunto de dados que digam quais são as variáveis de saídas corretas, para modelar um algoritmo preditivo. Esses modelos conseguem criar estruturas de dados com base em relações entre as variáveis ou  detectar algumas tendências.\n",
    "\n",
    "A seguir está um breve estudo sobre os alguns destes modelos, sugeridos do Nanodegree in Machine Learning Engineer da Udacity."
   ]
  },
  {
   "cell_type": "markdown",
   "metadata": {},
   "source": [
    "### Clustering K-means (Agrupamento K-means)\n",
    "\n",
    "#### O que é?\n",
    "Um algoritmo que agrupa dados que possuem características similares entre si em um *cluster*. O método K-means tem esse nome porque *K* representa um número, uma vez que é necessário dizer ao algoritmo em quantos clusters deseja a divisão dos dados.\n",
    "K-means é mais utilizade em uso geral,com clusters de tamanhos iguais, geometria plana, sem grandes quantidades de clusters.\n",
    "\n",
    "Ele usa a medida de distancia para dizer o quão similiar cada observação é, podendo ser:\n",
    "   * Distância Euclidiana: distância euclidiana entre dois pontos em uma linha reta\n",
    "   * Distância de Manhattan:Soma das distâncias entre as linhas que foram 90º entre dois pontos, ou seja, soma da linha y até o ponto de intersecção e a linha x. Essas medidas são sensíveis à diferença de escalas entre variáveis distintas:\n",
    "   * Distância do Cosseno: medida do ângulo entre dois vetores. Se o ângulo é 0 existe total similariade e se é π não existe relação entre os objetos.\n",
    "\n",
    "\n",
    "* **Onde pode ser usado?**\n",
    "    * Performance acadêmica, baseado nas notas de estudantes para separar entre estudantes A, B ou C\n",
    "    * Sistema de diagnóstico\n",
    "    * Classificação de catálogo de filmes\n",
    "    * Classificação de espécies de animais ou plantas\n",
    "    * Segmentação de clientes de acordo com perfis de consumo\n",
    "\n",
    "\n",
    "* **Vantagens**\n",
    "    * Fácil implentação e interpretação\n",
    "    * Bom quando já se possui uma ideia do número necessários de clusters\n",
    "    * Boa escabilidade com muitas variáveis se o k não for tão alto\n",
    "\n",
    "\n",
    "* **Desvantagens**\n",
    "    * As *sementes (seeds)* inicias tem um grande impacto nos resultados finais devido o local minumm, quando são iniciados em locais não tão adequados. Dificuldade que pode ser contornada rodando o algorítmo muitas vezes\n",
    "    * Difícil de prever o número de clusters (K-Value)\n",
    "    * Sensível a outliers\n",
    "    \n",
    "    \n",
    "* **Comandos no Sklearn**     \n",
    "    * n_clusters: número de clusters desejados, padrão 8 \n",
    "    * max_iter: quantas intereções máximas entre atribuir os pontos e mover o centroide, padrão 300\n",
    "    * n_init: quantas vezes o algoritmo muda os centroides para diferentes clusters, padrão 10 \n"
   ]
  },
  {
   "cell_type": "markdown",
   "metadata": {},
   "source": [
    "## Referências\n",
    "\n",
    "Portella, Letícia. 2018. [Machine Learning Models - My Cheat List](https://leportella.com/cheatlist/2018/05/20/models-cheat-list.html)\n",
    "\n",
    "Sonagara, Darshan and Badheka, Soham. 2014. [Comparison of Basic Clustering Algorithms](https://pdfs.semanticscholar.org/f0a4/d6bfb37b6c1102f7ef6b0d0f2ef861da6aca.pdf)\n",
    "\n",
    "[Sklearn documentation on Clsutering K-means](http://scikit-learn.org/stable/modules/generated/sklearn.cluster.KMeans.html) "
   ]
  }
 ],
 "metadata": {
  "kernelspec": {
   "display_name": "Python 3",
   "language": "python",
   "name": "python3"
  },
  "language_info": {
   "codemirror_mode": {
    "name": "ipython",
    "version": 3
   },
   "file_extension": ".py",
   "mimetype": "text/x-python",
   "name": "python",
   "nbconvert_exporter": "python",
   "pygments_lexer": "ipython3",
   "version": "3.6.5"
  }
 },
 "nbformat": 4,
 "nbformat_minor": 2
}
